{
  "nbformat": 4,
  "nbformat_minor": 0,
  "metadata": {
    "colab": {
      "name": "Bitcoin_30day_prediction.ipynb",
      "provenance": [],
      "mount_file_id": "17h8z2AVyovm0UkCv2ZV23IWjRB_npB1V",
      "authorship_tag": "ABX9TyOk3AlNfCtLGKkJOcdMQVjv",
      "include_colab_link": true
    },
    "kernelspec": {
      "name": "python3",
      "display_name": "Python 3"
    }
  },
  "cells": [
    {
      "cell_type": "markdown",
      "metadata": {
        "id": "view-in-github",
        "colab_type": "text"
      },
      "source": [
        "<a href=\"https://colab.research.google.com/github/khuloodnasher/Bitcoin-Prediction/blob/main/Bitcoin_30day_prediction.ipynb\" target=\"_parent\"><img src=\"https://colab.research.google.com/assets/colab-badge.svg\" alt=\"Open In Colab\"/></a>"
      ]
    },
    {
      "cell_type": "code",
      "metadata": {
        "id": "WS6DJ7XOQIlg"
      },
      "source": [
        "import pandas as pd\n",
        "import numpy as np\n",
        "### Create the Stacked LSTM model\n",
        "import tensorflow as tf\n",
        "from tensorflow.keras.models import Sequential\n",
        "from tensorflow.keras.layers import Dense\n",
        "from tensorflow.keras.layers import LSTM\n"
      ],
      "execution_count": 1,
      "outputs": []
    },
    {
      "cell_type": "code",
      "metadata": {
        "colab": {
          "base_uri": "https://localhost:8080/"
        },
        "id": "xioXjAkaNmtC",
        "outputId": "0f6f3e66-11c6-474b-bcc3-c6185f9ec7f1"
      },
      "source": [
        "from google.colab import drive\n",
        "drive.mount('/content/drive')"
      ],
      "execution_count": 2,
      "outputs": [
        {
          "output_type": "stream",
          "text": [
            "Drive already mounted at /content/drive; to attempt to forcibly remount, call drive.mount(\"/content/drive\", force_remount=True).\n"
          ],
          "name": "stdout"
        }
      ]
    },
    {
      "cell_type": "code",
      "metadata": {
        "id": "OBnllIf7MhL9"
      },
      "source": [
        "import pandas as pd\n",
        "df = pd.read_csv('/content/drive/My Drive/BTC-USD.csv', encoding= 'ISO-8859-1')\n"
      ],
      "execution_count": 3,
      "outputs": []
    },
    {
      "cell_type": "code",
      "metadata": {
        "colab": {
          "base_uri": "https://localhost:8080/",
          "height": 204
        },
        "id": "LSNRsPCGOzJD",
        "outputId": "2b2866ec-065d-46dc-f7d0-a8ac7ab17dda"
      },
      "source": [
        "df.head()"
      ],
      "execution_count": 4,
      "outputs": [
        {
          "output_type": "execute_result",
          "data": {
            "text/html": [
              "<div>\n",
              "<style scoped>\n",
              "    .dataframe tbody tr th:only-of-type {\n",
              "        vertical-align: middle;\n",
              "    }\n",
              "\n",
              "    .dataframe tbody tr th {\n",
              "        vertical-align: top;\n",
              "    }\n",
              "\n",
              "    .dataframe thead th {\n",
              "        text-align: right;\n",
              "    }\n",
              "</style>\n",
              "<table border=\"1\" class=\"dataframe\">\n",
              "  <thead>\n",
              "    <tr style=\"text-align: right;\">\n",
              "      <th></th>\n",
              "      <th>Date</th>\n",
              "      <th>Open</th>\n",
              "      <th>High</th>\n",
              "      <th>Low</th>\n",
              "      <th>Close</th>\n",
              "      <th>Adj Close</th>\n",
              "      <th>Volume</th>\n",
              "    </tr>\n",
              "  </thead>\n",
              "  <tbody>\n",
              "    <tr>\n",
              "      <th>0</th>\n",
              "      <td>2019-12-31</td>\n",
              "      <td>7294.438965</td>\n",
              "      <td>7335.290039</td>\n",
              "      <td>7169.777832</td>\n",
              "      <td>7193.599121</td>\n",
              "      <td>7193.599121</td>\n",
              "      <td>21167946112</td>\n",
              "    </tr>\n",
              "    <tr>\n",
              "      <th>1</th>\n",
              "      <td>2020-01-01</td>\n",
              "      <td>7194.892090</td>\n",
              "      <td>7254.330566</td>\n",
              "      <td>7174.944336</td>\n",
              "      <td>7200.174316</td>\n",
              "      <td>7200.174316</td>\n",
              "      <td>18565664996</td>\n",
              "    </tr>\n",
              "    <tr>\n",
              "      <th>2</th>\n",
              "      <td>2020-01-02</td>\n",
              "      <td>7202.551270</td>\n",
              "      <td>7212.155273</td>\n",
              "      <td>6935.270020</td>\n",
              "      <td>6985.470215</td>\n",
              "      <td>6985.470215</td>\n",
              "      <td>20802083465</td>\n",
              "    </tr>\n",
              "    <tr>\n",
              "      <th>3</th>\n",
              "      <td>2020-01-03</td>\n",
              "      <td>6984.428711</td>\n",
              "      <td>7413.715332</td>\n",
              "      <td>6914.996094</td>\n",
              "      <td>7344.884277</td>\n",
              "      <td>7344.884277</td>\n",
              "      <td>28111481031</td>\n",
              "    </tr>\n",
              "    <tr>\n",
              "      <th>4</th>\n",
              "      <td>2020-01-04</td>\n",
              "      <td>7345.375488</td>\n",
              "      <td>7427.385742</td>\n",
              "      <td>7309.514160</td>\n",
              "      <td>7410.656738</td>\n",
              "      <td>7410.656738</td>\n",
              "      <td>18444271274</td>\n",
              "    </tr>\n",
              "  </tbody>\n",
              "</table>\n",
              "</div>"
            ],
            "text/plain": [
              "         Date         Open         High  ...        Close    Adj Close       Volume\n",
              "0  2019-12-31  7294.438965  7335.290039  ...  7193.599121  7193.599121  21167946112\n",
              "1  2020-01-01  7194.892090  7254.330566  ...  7200.174316  7200.174316  18565664996\n",
              "2  2020-01-02  7202.551270  7212.155273  ...  6985.470215  6985.470215  20802083465\n",
              "3  2020-01-03  6984.428711  7413.715332  ...  7344.884277  7344.884277  28111481031\n",
              "4  2020-01-04  7345.375488  7427.385742  ...  7410.656738  7410.656738  18444271274\n",
              "\n",
              "[5 rows x 7 columns]"
            ]
          },
          "metadata": {
            "tags": []
          },
          "execution_count": 4
        }
      ]
    },
    {
      "cell_type": "code",
      "metadata": {
        "colab": {
          "base_uri": "https://localhost:8080/",
          "height": 204
        },
        "id": "S5_o5kALO0S9",
        "outputId": "dc33cc17-0b58-438e-b2c9-abeec65632eb"
      },
      "source": [
        "df.tail()"
      ],
      "execution_count": 5,
      "outputs": [
        {
          "output_type": "execute_result",
          "data": {
            "text/html": [
              "<div>\n",
              "<style scoped>\n",
              "    .dataframe tbody tr th:only-of-type {\n",
              "        vertical-align: middle;\n",
              "    }\n",
              "\n",
              "    .dataframe tbody tr th {\n",
              "        vertical-align: top;\n",
              "    }\n",
              "\n",
              "    .dataframe thead th {\n",
              "        text-align: right;\n",
              "    }\n",
              "</style>\n",
              "<table border=\"1\" class=\"dataframe\">\n",
              "  <thead>\n",
              "    <tr style=\"text-align: right;\">\n",
              "      <th></th>\n",
              "      <th>Date</th>\n",
              "      <th>Open</th>\n",
              "      <th>High</th>\n",
              "      <th>Low</th>\n",
              "      <th>Close</th>\n",
              "      <th>Adj Close</th>\n",
              "      <th>Volume</th>\n",
              "    </tr>\n",
              "  </thead>\n",
              "  <tbody>\n",
              "    <tr>\n",
              "      <th>362</th>\n",
              "      <td>2020-12-27</td>\n",
              "      <td>26439.373047</td>\n",
              "      <td>28288.839844</td>\n",
              "      <td>25922.769531</td>\n",
              "      <td>26272.294922</td>\n",
              "      <td>26272.294922</td>\n",
              "      <td>66479895605</td>\n",
              "    </tr>\n",
              "    <tr>\n",
              "      <th>363</th>\n",
              "      <td>2020-12-28</td>\n",
              "      <td>26280.822266</td>\n",
              "      <td>27389.111328</td>\n",
              "      <td>26207.640625</td>\n",
              "      <td>27084.808594</td>\n",
              "      <td>27084.808594</td>\n",
              "      <td>49056742893</td>\n",
              "    </tr>\n",
              "    <tr>\n",
              "      <th>364</th>\n",
              "      <td>2020-12-29</td>\n",
              "      <td>27081.810547</td>\n",
              "      <td>27370.720703</td>\n",
              "      <td>25987.298828</td>\n",
              "      <td>27362.437500</td>\n",
              "      <td>27362.437500</td>\n",
              "      <td>45265946774</td>\n",
              "    </tr>\n",
              "    <tr>\n",
              "      <th>365</th>\n",
              "      <td>2020-12-30</td>\n",
              "      <td>27360.089844</td>\n",
              "      <td>28937.740234</td>\n",
              "      <td>27360.089844</td>\n",
              "      <td>28840.953125</td>\n",
              "      <td>28840.953125</td>\n",
              "      <td>51287442704</td>\n",
              "    </tr>\n",
              "    <tr>\n",
              "      <th>366</th>\n",
              "      <td>2020-12-31</td>\n",
              "      <td>28591.214844</td>\n",
              "      <td>29244.750000</td>\n",
              "      <td>28591.214844</td>\n",
              "      <td>28790.310547</td>\n",
              "      <td>28790.310547</td>\n",
              "      <td>47452475392</td>\n",
              "    </tr>\n",
              "  </tbody>\n",
              "</table>\n",
              "</div>"
            ],
            "text/plain": [
              "           Date          Open  ...     Adj Close       Volume\n",
              "362  2020-12-27  26439.373047  ...  26272.294922  66479895605\n",
              "363  2020-12-28  26280.822266  ...  27084.808594  49056742893\n",
              "364  2020-12-29  27081.810547  ...  27362.437500  45265946774\n",
              "365  2020-12-30  27360.089844  ...  28840.953125  51287442704\n",
              "366  2020-12-31  28591.214844  ...  28790.310547  47452475392\n",
              "\n",
              "[5 rows x 7 columns]"
            ]
          },
          "metadata": {
            "tags": []
          },
          "execution_count": 5
        }
      ]
    },
    {
      "cell_type": "code",
      "metadata": {
        "colab": {
          "base_uri": "https://localhost:8080/"
        },
        "id": "sutN7e08PK0R",
        "outputId": "209fe023-6259-4e5c-d509-784e67a53727"
      },
      "source": [
        "\n",
        "df1=df.reset_index()['Close']\n",
        "df1"
      ],
      "execution_count": 6,
      "outputs": [
        {
          "output_type": "execute_result",
          "data": {
            "text/plain": [
              "0       7193.599121\n",
              "1       7200.174316\n",
              "2       6985.470215\n",
              "3       7344.884277\n",
              "4       7410.656738\n",
              "           ...     \n",
              "362    26272.294922\n",
              "363    27084.808594\n",
              "364    27362.437500\n",
              "365    28840.953125\n",
              "366    28790.310547\n",
              "Name: Close, Length: 367, dtype: float64"
            ]
          },
          "metadata": {
            "tags": []
          },
          "execution_count": 6
        }
      ]
    },
    {
      "cell_type": "code",
      "metadata": {
        "colab": {
          "base_uri": "https://localhost:8080/",
          "height": 286
        },
        "id": "rx12ujowPhRb",
        "outputId": "a137c2bd-0410-4b6b-b709-a885200c1286"
      },
      "source": [
        "import matplotlib.pyplot as plt\n",
        "plt.plot(df1)"
      ],
      "execution_count": 7,
      "outputs": [
        {
          "output_type": "execute_result",
          "data": {
            "text/plain": [
              "[<matplotlib.lines.Line2D at 0x7f6fa669bdd8>]"
            ]
          },
          "metadata": {
            "tags": []
          },
          "execution_count": 7
        },
        {
          "output_type": "display_data",
          "data": {
            "image/png": "[encoded data removed]",
            "text/plain": [
              "<Figure size 432x288 with 1 Axes>"
            ]
          },
          "metadata": {
            "tags": [],
            "needs_background": "light"
          }
        }
      ]
    },
    {
      "cell_type": "code",
      "metadata": {
        "id": "53n5EpL3Pw_4"
      },
      "source": [
        "from sklearn.preprocessing import MinMaxScaler\n",
        "scaler=MinMaxScaler(feature_range=(0,1))\n",
        "df1=scaler.fit_transform(np.array(df1).reshape(-1,1))\n"
      ],
      "execution_count": 8,
      "outputs": []
    },
    {
      "cell_type": "code",
      "metadata": {
        "colab": {
          "base_uri": "https://localhost:8080/"
        },
        "id": "RAlJYCcTQa8p",
        "outputId": "90eb29b0-b8df-4686-a8b0-9d83f1a1abac"
      },
      "source": [
        "print(df1)"
      ],
      "execution_count": 9,
      "outputs": [
        {
          "output_type": "stream",
          "text": [
            "[[0.09312089]\n",
            " [0.09339635]\n",
            " [0.08440168]\n",
            " [0.09945873]\n",
            " [0.10221415]\n",
            " [0.10224183]\n",
            " [0.11723552]\n",
            " [0.1337613 ]\n",
            " [0.1302494 ]\n",
            " [0.12183758]\n",
            " [0.13388119]\n",
            " [0.12847626]\n",
            " [0.1349679 ]\n",
            " [0.13294446]\n",
            " [0.16158148]\n",
            " [0.16071203]\n",
            " [0.15722548]\n",
            " [0.16582416]\n",
            " [0.16640105]\n",
            " [0.15649062]\n",
            " [0.1544545 ]\n",
            " [0.15815167]\n",
            " [0.15542783]\n",
            " [0.14393397]\n",
            " [0.14556441]\n",
            " [0.14231404]\n",
            " [0.15190687]\n",
            " [0.16501902]\n",
            " [0.1838195 ]\n",
            " [0.18206166]\n",
            " [0.19012039]\n",
            " [0.18348182]\n",
            " [0.18525582]\n",
            " [0.18322358]\n",
            " [0.18109357]\n",
            " [0.17637812]\n",
            " [0.19449533]\n",
            " [0.19937079]\n",
            " [0.20214168]\n",
            " [0.20503968]\n",
            " [0.21557814]\n",
            " [0.20468326]\n",
            " [0.21941399]\n",
            " [0.22434979]\n",
            " [0.21967137]\n",
            " [0.22376586]\n",
            " [0.20605793]\n",
            " [0.20794349]\n",
            " [0.19770934]\n",
            " [0.21663897]\n",
            " [0.19533165]\n",
            " [0.19428804]\n",
            " [0.19755428]\n",
            " [0.19657985]\n",
            " [0.207528  ]\n",
            " [0.19603495]\n",
            " [0.18311214]\n",
            " [0.16127808]\n",
            " [0.15976873]\n",
            " [0.15507505]\n",
            " [0.15201909]\n",
            " [0.15046674]\n",
            " [0.16333703]\n",
            " [0.15990665]\n",
            " [0.15854344]\n",
            " [0.17209662]\n",
            " [0.17393084]\n",
            " [0.16502467]\n",
            " [0.13143303]\n",
            " [0.1237049 ]\n",
            " [0.12312196]\n",
            " [0.1231932 ]\n",
            " [0.        ]\n",
            " [0.02483933]\n",
            " [0.00961779]\n",
            " [0.01765915]\n",
            " [0.0018304 ]\n",
            " [0.01067614]\n",
            " [0.01121276]\n",
            " [0.05112678]\n",
            " [0.05144456]\n",
            " [0.05087013]\n",
            " [0.0360059 ]\n",
            " [0.06055789]\n",
            " [0.07390044]\n",
            " [0.07164906]\n",
            " [0.07313114]\n",
            " [0.06279849]\n",
            " [0.05326338]\n",
            " [0.03985121]\n",
            " [0.06112458]\n",
            " [0.06149335]\n",
            " [0.06853695]\n",
            " [0.07636463]\n",
            " [0.07384109]\n",
            " [0.07946067]\n",
            " [0.07626011]\n",
            " [0.0963962 ]\n",
            " [0.09240097]\n",
            " [0.09900688]\n",
            " [0.0976659 ]\n",
            " [0.07937545]\n",
            " [0.07910691]\n",
            " [0.08379932]\n",
            " [0.0785185 ]\n",
            " [0.07840916]\n",
            " [0.07001719]\n",
            " [0.0899037 ]\n",
            " [0.08903987]\n",
            " [0.09580482]\n",
            " [0.09294602]\n",
            " [0.08006524]\n",
            " [0.07999673]\n",
            " [0.08992059]\n",
            " [0.10301297]\n",
            " [0.10808944]\n",
            " [0.10888689]\n",
            " [0.11349227]\n",
            " [0.11834074]\n",
            " [0.11882073]\n",
            " [0.16046181]\n",
            " [0.15449267]\n",
            " [0.16313161]\n",
            " [0.16831926]\n",
            " [0.16450161]\n",
            " [0.16513779]\n",
            " [0.16892561]\n",
            " [0.1800563 ]\n",
            " [0.20865924]\n",
            " [0.20409905]\n",
            " [0.19367727]\n",
            " [0.15859306]\n",
            " [0.1521149 ]\n",
            " [0.1606059 ]\n",
            " [0.18010765]\n",
            " [0.19953501]\n",
            " [0.18254625]\n",
            " [0.18459133]\n",
            " [0.19689647]\n",
            " [0.19923562]\n",
            " [0.1993388 ]\n",
            " [0.1907064 ]\n",
            " [0.17222225]\n",
            " [0.17644575]\n",
            " [0.17756471]\n",
            " [0.16001482]\n",
            " [0.16489817]\n",
            " [0.1618868 ]\n",
            " [0.17638041]\n",
            " [0.19082243]\n",
            " [0.18719334]\n",
            " [0.19813964]\n",
            " [0.18811225]\n",
            " [0.21769772]\n",
            " [0.19099221]\n",
            " [0.19630906]\n",
            " [0.2023383 ]\n",
            " [0.19667837]\n",
            " [0.19618179]\n",
            " [0.20058782]\n",
            " [0.20111722]\n",
            " [0.20213149]\n",
            " [0.20524813]\n",
            " [0.18227746]\n",
            " [0.18894112]\n",
            " [0.18870792]\n",
            " [0.18500082]\n",
            " [0.18767839]\n",
            " [0.1913366 ]\n",
            " [0.18891645]\n",
            " [0.18605036]\n",
            " [0.18086303]\n",
            " [0.18271984]\n",
            " [0.18151704]\n",
            " [0.19597391]\n",
            " [0.19517545]\n",
            " [0.18193516]\n",
            " [0.1798909 ]\n",
            " [0.17562216]\n",
            " [0.17069855]\n",
            " [0.17481211]\n",
            " [0.17679251]\n",
            " [0.17457798]\n",
            " [0.17836228]\n",
            " [0.17396704]\n",
            " [0.17245443]\n",
            " [0.17434736]\n",
            " [0.17189468]\n",
            " [0.18452686]\n",
            " [0.17936572]\n",
            " [0.18674127]\n",
            " [0.18044197]\n",
            " [0.18047716]\n",
            " [0.1788659 ]\n",
            " [0.18038048]\n",
            " [0.17900279]\n",
            " [0.17898602]\n",
            " [0.17687556]\n",
            " [0.17433643]\n",
            " [0.17513932]\n",
            " [0.1754597 ]\n",
            " [0.17658149]\n",
            " [0.17567718]\n",
            " [0.18450227]\n",
            " [0.19080619]\n",
            " [0.19314002]\n",
            " [0.19128919]\n",
            " [0.1971635 ]\n",
            " [0.20671742]\n",
            " [0.25220123]\n",
            " [0.24893147]\n",
            " [0.25679251]\n",
            " [0.2572427 ]\n",
            " [0.26613468]\n",
            " [0.28440544]\n",
            " [0.25482967]\n",
            " [0.26290394]\n",
            " [0.26120911]\n",
            " [0.28387882]\n",
            " [0.28525087]\n",
            " [0.27778126]\n",
            " [0.28417306]\n",
            " [0.28089254]\n",
            " [0.28937057]\n",
            " [0.26978185]\n",
            " [0.27708843]\n",
            " [0.2854337 ]\n",
            " [0.28479414]\n",
            " [0.28885054]\n",
            " [0.28998608]\n",
            " [0.30513464]\n",
            " [0.29410963]\n",
            " [0.28435057]\n",
            " [0.28938149]\n",
            " [0.27740492]\n",
            " [0.2811475 ]\n",
            " [0.28043625]\n",
            " [0.28503396]\n",
            " [0.26792218]\n",
            " [0.27304274]\n",
            " [0.26613177]\n",
            " [0.2753107 ]\n",
            " [0.27381784]\n",
            " [0.28239092]\n",
            " [0.2811054 ]\n",
            " [0.29324014]\n",
            " [0.26992885]\n",
            " [0.22096658]\n",
            " [0.23213184]\n",
            " [0.21779402]\n",
            " [0.22243514]\n",
            " [0.22617252]\n",
            " [0.21619995]\n",
            " [0.22084303]\n",
            " [0.22590336]\n",
            " [0.22748594]\n",
            " [0.22921428]\n",
            " [0.22425349]\n",
            " [0.23921283]\n",
            " [0.2440772 ]\n",
            " [0.25153229]\n",
            " [0.25044662]\n",
            " [0.25026211]\n",
            " [0.25653608]\n",
            " [0.24999758]\n",
            " [0.23005587]\n",
            " [0.23324815]\n",
            " [0.22015249]\n",
            " [0.24192379]\n",
            " [0.24011153]\n",
            " [0.24229616]\n",
            " [0.24313358]\n",
            " [0.24090906]\n",
            " [0.24625058]\n",
            " [0.24368621]\n",
            " [0.23680364]\n",
            " [0.23520474]\n",
            " [0.23438066]\n",
            " [0.23936326]\n",
            " [0.24437254]\n",
            " [0.23673385]\n",
            " [0.23914157]\n",
            " [0.24938411]\n",
            " [0.25591267]\n",
            " [0.26499914]\n",
            " [0.26867822]\n",
            " [0.27584959]\n",
            " [0.27042592]\n",
            " [0.27057705]\n",
            " [0.27333542]\n",
            " [0.26607838]\n",
            " [0.26758564]\n",
            " [0.27283311]\n",
            " [0.28366997]\n",
            " [0.29097188]\n",
            " [0.32898396]\n",
            " [0.33494128]\n",
            " [0.33350213]\n",
            " [0.34089728]\n",
            " [0.33767616]\n",
            " [0.33952258]\n",
            " [0.36377757]\n",
            " [0.34773522]\n",
            " [0.35471454]\n",
            " [0.35926582]\n",
            " [0.36908865]\n",
            " [0.36725013]\n",
            " [0.359432  ]\n",
            " [0.37618142]\n",
            " [0.38386492]\n",
            " [0.44444856]\n",
            " [0.44386341]\n",
            " [0.41319219]\n",
            " [0.44024745]\n",
            " [0.43407858]\n",
            " [0.43234365]\n",
            " [0.44953823]\n",
            " [0.47362704]\n",
            " [0.47536414]\n",
            " [0.46490464]\n",
            " [0.46018952]\n",
            " [0.49205036]\n",
            " [0.53098159]\n",
            " [0.53762585]\n",
            " [0.53817398]\n",
            " [0.5718656 ]\n",
            " [0.57274193]\n",
            " [0.56133729]\n",
            " [0.56109093]\n",
            " [0.59223205]\n",
            " [0.57650766]\n",
            " [0.51025349]\n",
            " [0.50848472]\n",
            " [0.53399823]\n",
            " [0.5532721 ]\n",
            " [0.61394833]\n",
            " [0.57947693]\n",
            " [0.59615439]\n",
            " [0.6063892 ]\n",
            " [0.57515218]\n",
            " [0.59419122]\n",
            " [0.60218825]\n",
            " [0.59575804]\n",
            " [0.5592905 ]\n",
            " [0.56904206]\n",
            " [0.55693809]\n",
            " [0.54830439]\n",
            " [0.5795045 ]\n",
            " [0.59369488]\n",
            " [0.59806275]\n",
            " [0.60520269]\n",
            " [0.68452855]\n",
            " [0.74714079]\n",
            " [0.76108283]\n",
            " [0.79174333]\n",
            " [0.77529865]\n",
            " [0.74705365]\n",
            " [0.78810688]\n",
            " [0.76541396]\n",
            " [0.78613454]\n",
            " [0.82504679]\n",
            " [0.89929202]\n",
            " [0.89239043]\n",
            " [0.92642931]\n",
            " [0.9380601 ]\n",
            " [1.        ]\n",
            " [0.99787842]]\n"
          ],
          "name": "stdout"
        }
      ]
    },
    {
      "cell_type": "code",
      "metadata": {
        "id": "wRS11dktQelz"
      },
      "source": [
        "##splitting dataset into train and test split\n",
        "training_size=int(len(df1)*0.65)\n",
        "test_size=len(df1)-training_size\n",
        "train_data,test_data=df1[0:training_size,:],df1[training_size:len(df1),:1]"
      ],
      "execution_count": 10,
      "outputs": []
    },
    {
      "cell_type": "code",
      "metadata": {
        "colab": {
          "base_uri": "https://localhost:8080/"
        },
        "id": "she3OiPRRAAv",
        "outputId": "b3965224-a5a3-499c-e98c-6e1290e597f1"
      },
      "source": [
        "training_size,test_size"
      ],
      "execution_count": 11,
      "outputs": [
        {
          "output_type": "execute_result",
          "data": {
            "text/plain": [
              "(238, 129)"
            ]
          },
          "metadata": {
            "tags": []
          },
          "execution_count": 11
        }
      ]
    },
    {
      "cell_type": "code",
      "metadata": {
        "colab": {
          "base_uri": "https://localhost:8080/"
        },
        "id": "0wwDMuPERHEX",
        "outputId": "ebc96ff2-644c-4f32-c61c-7ceae1c29fb1"
      },
      "source": [
        "train_data"
      ],
      "execution_count": 12,
      "outputs": [
        {
          "output_type": "execute_result",
          "data": {
            "text/plain": [
              "array([[0.09312089],\n",
              "       [0.09339635],\n",
              "       [0.08440168],\n",
              "       [0.09945873],\n",
              "       [0.10221415],\n",
              "       [0.10224183],\n",
              "       [0.11723552],\n",
              "       [0.1337613 ],\n",
              "       [0.1302494 ],\n",
              "       [0.12183758],\n",
              "       [0.13388119],\n",
              "       [0.12847626],\n",
              "       [0.1349679 ],\n",
              "       [0.13294446],\n",
              "       [0.16158148],\n",
              "       [0.16071203],\n",
              "       [0.15722548],\n",
              "       [0.16582416],\n",
              "       [0.16640105],\n",
              "       [0.15649062],\n",
              "       [0.1544545 ],\n",
              "       [0.15815167],\n",
              "       [0.15542783],\n",
              "       [0.14393397],\n",
              "       [0.14556441],\n",
              "       [0.14231404],\n",
              "       [0.15190687],\n",
              "       [0.16501902],\n",
              "       [0.1838195 ],\n",
              "       [0.18206166],\n",
              "       [0.19012039],\n",
              "       [0.18348182],\n",
              "       [0.18525582],\n",
              "       [0.18322358],\n",
              "       [0.18109357],\n",
              "       [0.17637812],\n",
              "       [0.19449533],\n",
              "       [0.19937079],\n",
              "       [0.20214168],\n",
              "       [0.20503968],\n",
              "       [0.21557814],\n",
              "       [0.20468326],\n",
              "       [0.21941399],\n",
              "       [0.22434979],\n",
              "       [0.21967137],\n",
              "       [0.22376586],\n",
              "       [0.20605793],\n",
              "       [0.20794349],\n",
              "       [0.19770934],\n",
              "       [0.21663897],\n",
              "       [0.19533165],\n",
              "       [0.19428804],\n",
              "       [0.19755428],\n",
              "       [0.19657985],\n",
              "       [0.207528  ],\n",
              "       [0.19603495],\n",
              "       [0.18311214],\n",
              "       [0.16127808],\n",
              "       [0.15976873],\n",
              "       [0.15507505],\n",
              "       [0.15201909],\n",
              "       [0.15046674],\n",
              "       [0.16333703],\n",
              "       [0.15990665],\n",
              "       [0.15854344],\n",
              "       [0.17209662],\n",
              "       [0.17393084],\n",
              "       [0.16502467],\n",
              "       [0.13143303],\n",
              "       [0.1237049 ],\n",
              "       [0.12312196],\n",
              "       [0.1231932 ],\n",
              "       [0.        ],\n",
              "       [0.02483933],\n",
              "       [0.00961779],\n",
              "       [0.01765915],\n",
              "       [0.0018304 ],\n",
              "       [0.01067614],\n",
              "       [0.01121276],\n",
              "       [0.05112678],\n",
              "       [0.05144456],\n",
              "       [0.05087013],\n",
              "       [0.0360059 ],\n",
              "       [0.06055789],\n",
              "       [0.07390044],\n",
              "       [0.07164906],\n",
              "       [0.07313114],\n",
              "       [0.06279849],\n",
              "       [0.05326338],\n",
              "       [0.03985121],\n",
              "       [0.06112458],\n",
              "       [0.06149335],\n",
              "       [0.06853695],\n",
              "       [0.07636463],\n",
              "       [0.07384109],\n",
              "       [0.07946067],\n",
              "       [0.07626011],\n",
              "       [0.0963962 ],\n",
              "       [0.09240097],\n",
              "       [0.09900688],\n",
              "       [0.0976659 ],\n",
              "       [0.07937545],\n",
              "       [0.07910691],\n",
              "       [0.08379932],\n",
              "       [0.0785185 ],\n",
              "       [0.07840916],\n",
              "       [0.07001719],\n",
              "       [0.0899037 ],\n",
              "       [0.08903987],\n",
              "       [0.09580482],\n",
              "       [0.09294602],\n",
              "       [0.08006524],\n",
              "       [0.07999673],\n",
              "       [0.08992059],\n",
              "       [0.10301297],\n",
              "       [0.10808944],\n",
              "       [0.10888689],\n",
              "       [0.11349227],\n",
              "       [0.11834074],\n",
              "       [0.11882073],\n",
              "       [0.16046181],\n",
              "       [0.15449267],\n",
              "       [0.16313161],\n",
              "       [0.16831926],\n",
              "       [0.16450161],\n",
              "       [0.16513779],\n",
              "       [0.16892561],\n",
              "       [0.1800563 ],\n",
              "       [0.20865924],\n",
              "       [0.20409905],\n",
              "       [0.19367727],\n",
              "       [0.15859306],\n",
              "       [0.1521149 ],\n",
              "       [0.1606059 ],\n",
              "       [0.18010765],\n",
              "       [0.19953501],\n",
              "       [0.18254625],\n",
              "       [0.18459133],\n",
              "       [0.19689647],\n",
              "       [0.19923562],\n",
              "       [0.1993388 ],\n",
              "       [0.1907064 ],\n",
              "       [0.17222225],\n",
              "       [0.17644575],\n",
              "       [0.17756471],\n",
              "       [0.16001482],\n",
              "       [0.16489817],\n",
              "       [0.1618868 ],\n",
              "       [0.17638041],\n",
              "       [0.19082243],\n",
              "       [0.18719334],\n",
              "       [0.19813964],\n",
              "       [0.18811225],\n",
              "       [0.21769772],\n",
              "       [0.19099221],\n",
              "       [0.19630906],\n",
              "       [0.2023383 ],\n",
              "       [0.19667837],\n",
              "       [0.19618179],\n",
              "       [0.20058782],\n",
              "       [0.20111722],\n",
              "       [0.20213149],\n",
              "       [0.20524813],\n",
              "       [0.18227746],\n",
              "       [0.18894112],\n",
              "       [0.18870792],\n",
              "       [0.18500082],\n",
              "       [0.18767839],\n",
              "       [0.1913366 ],\n",
              "       [0.18891645],\n",
              "       [0.18605036],\n",
              "       [0.18086303],\n",
              "       [0.18271984],\n",
              "       [0.18151704],\n",
              "       [0.19597391],\n",
              "       [0.19517545],\n",
              "       [0.18193516],\n",
              "       [0.1798909 ],\n",
              "       [0.17562216],\n",
              "       [0.17069855],\n",
              "       [0.17481211],\n",
              "       [0.17679251],\n",
              "       [0.17457798],\n",
              "       [0.17836228],\n",
              "       [0.17396704],\n",
              "       [0.17245443],\n",
              "       [0.17434736],\n",
              "       [0.17189468],\n",
              "       [0.18452686],\n",
              "       [0.17936572],\n",
              "       [0.18674127],\n",
              "       [0.18044197],\n",
              "       [0.18047716],\n",
              "       [0.1788659 ],\n",
              "       [0.18038048],\n",
              "       [0.17900279],\n",
              "       [0.17898602],\n",
              "       [0.17687556],\n",
              "       [0.17433643],\n",
              "       [0.17513932],\n",
              "       [0.1754597 ],\n",
              "       [0.17658149],\n",
              "       [0.17567718],\n",
              "       [0.18450227],\n",
              "       [0.19080619],\n",
              "       [0.19314002],\n",
              "       [0.19128919],\n",
              "       [0.1971635 ],\n",
              "       [0.20671742],\n",
              "       [0.25220123],\n",
              "       [0.24893147],\n",
              "       [0.25679251],\n",
              "       [0.2572427 ],\n",
              "       [0.26613468],\n",
              "       [0.28440544],\n",
              "       [0.25482967],\n",
              "       [0.26290394],\n",
              "       [0.26120911],\n",
              "       [0.28387882],\n",
              "       [0.28525087],\n",
              "       [0.27778126],\n",
              "       [0.28417306],\n",
              "       [0.28089254],\n",
              "       [0.28937057],\n",
              "       [0.26978185],\n",
              "       [0.27708843],\n",
              "       [0.2854337 ],\n",
              "       [0.28479414],\n",
              "       [0.28885054],\n",
              "       [0.28998608],\n",
              "       [0.30513464],\n",
              "       [0.29410963],\n",
              "       [0.28435057],\n",
              "       [0.28938149],\n",
              "       [0.27740492],\n",
              "       [0.2811475 ],\n",
              "       [0.28043625],\n",
              "       [0.28503396]])"
            ]
          },
          "metadata": {
            "tags": []
          },
          "execution_count": 12
        }
      ]
    },
    {
      "cell_type": "code",
      "metadata": {
        "id": "1MSuJQRUROaT"
      },
      "source": [
        "import numpy\n",
        "# convert an array of values into a dataset matrix\n",
        "def create_dataset(dataset, time_step=1):\n",
        "\tdataX, dataY = [], []\n",
        "\tfor i in range(len(dataset)-time_step-1):\n",
        "\t\ta = dataset[i:(i+time_step), 0]   ###i=0, 0,1,2,3-----99   100 \n",
        "\t\tdataX.append(a)\n",
        "\t\tdataY.append(dataset[i + time_step, 0])\n",
        "\treturn numpy.array(dataX), numpy.array(dataY)\n"
      ],
      "execution_count": 13,
      "outputs": []
    },
    {
      "cell_type": "code",
      "metadata": {
        "id": "UM-lr5P-RoYZ"
      },
      "source": [
        "# reshape into X=t,t+1,t+2,t+3 and Y=t+4\n",
        "time_step = 100\n",
        "X_train, y_train = create_dataset(train_data, time_step)\n",
        "X_test, ytest = create_dataset(test_data, time_step)\n"
      ],
      "execution_count": 14,
      "outputs": []
    },
    {
      "cell_type": "code",
      "metadata": {
        "colab": {
          "base_uri": "https://localhost:8080/"
        },
        "id": "7mUjyBcvRxEt",
        "outputId": "028caf29-1236-40e7-b649-70915dea4805"
      },
      "source": [
        "print(X_train.shape), print(y_train.shape)"
      ],
      "execution_count": 15,
      "outputs": [
        {
          "output_type": "stream",
          "text": [
            "(137, 100)\n",
            "(137,)\n"
          ],
          "name": "stdout"
        },
        {
          "output_type": "execute_result",
          "data": {
            "text/plain": [
              "(None, None)"
            ]
          },
          "metadata": {
            "tags": []
          },
          "execution_count": 15
        }
      ]
    },
    {
      "cell_type": "code",
      "metadata": {
        "colab": {
          "base_uri": "https://localhost:8080/"
        },
        "id": "SRpEdVLLR4TU",
        "outputId": "2ef0c694-081b-4ee8-8fb6-31426fc2c798"
      },
      "source": [
        "print(X_test.shape), print(ytest.shape)"
      ],
      "execution_count": 16,
      "outputs": [
        {
          "output_type": "stream",
          "text": [
            "(28, 100)\n",
            "(28,)\n"
          ],
          "name": "stdout"
        },
        {
          "output_type": "execute_result",
          "data": {
            "text/plain": [
              "(None, None)"
            ]
          },
          "metadata": {
            "tags": []
          },
          "execution_count": 16
        }
      ]
    },
    {
      "cell_type": "code",
      "metadata": {
        "id": "VdDQ4na8SE_h"
      },
      "source": [
        "# reshape input to be [samples, time steps, features] which is required for LSTM\n",
        "X_train =X_train.reshape(X_train.shape[0],X_train.shape[1] , 1)\n",
        "X_test = X_test.reshape(X_test.shape[0],X_test.shape[1] , 1)"
      ],
      "execution_count": 17,
      "outputs": []
    },
    {
      "cell_type": "code",
      "metadata": {
        "id": "-D2a4ilqSLNS"
      },
      "source": [
        "model=Sequential()\n",
        "model.add(LSTM(50,return_sequences=True,input_shape=(100,1)))\n",
        "model.add(LSTM(50,return_sequences=True))\n",
        "model.add(LSTM(50))\n",
        "model.add(Dense(1))\n",
        "model.compile(loss='mean_squared_error',optimizer='adam')\n"
      ],
      "execution_count": 18,
      "outputs": []
    },
    {
      "cell_type": "code",
      "metadata": {
        "colab": {
          "base_uri": "https://localhost:8080/"
        },
        "id": "IjltxDcMSbLA",
        "outputId": "4c42383e-fb91-4538-c5de-fd00c625587c"
      },
      "source": [
        "model.summary()"
      ],
      "execution_count": 19,
      "outputs": [
        {
          "output_type": "stream",
          "text": [
            "Model: \"sequential\"\n",
            "_________________________________________________________________\n",
            "Layer (type)                 Output Shape              Param #   \n",
            "=================================================================\n",
            "lstm (LSTM)                  (None, 100, 50)           10400     \n",
            "_________________________________________________________________\n",
            "lstm_1 (LSTM)                (None, 100, 50)           20200     \n",
            "_________________________________________________________________\n",
            "lstm_2 (LSTM)                (None, 50)                20200     \n",
            "_________________________________________________________________\n",
            "dense (Dense)                (None, 1)                 51        \n",
            "=================================================================\n",
            "Total params: 50,851\n",
            "Trainable params: 50,851\n",
            "Non-trainable params: 0\n",
            "_________________________________________________________________\n"
          ],
          "name": "stdout"
        }
      ]
    },
    {
      "cell_type": "code",
      "metadata": {
        "colab": {
          "base_uri": "https://localhost:8080/"
        },
        "id": "c_kGsf26SiGS",
        "outputId": "473efab8-43db-48e3-c31b-1f9735d99e8d"
      },
      "source": [
        "model.summary()"
      ],
      "execution_count": 20,
      "outputs": [
        {
          "output_type": "stream",
          "text": [
            "Model: \"sequential\"\n",
            "_________________________________________________________________\n",
            "Layer (type)                 Output Shape              Param #   \n",
            "=================================================================\n",
            "lstm (LSTM)                  (None, 100, 50)           10400     \n",
            "_________________________________________________________________\n",
            "lstm_1 (LSTM)                (None, 100, 50)           20200     \n",
            "_________________________________________________________________\n",
            "lstm_2 (LSTM)                (None, 50)                20200     \n",
            "_________________________________________________________________\n",
            "dense (Dense)                (None, 1)                 51        \n",
            "=================================================================\n",
            "Total params: 50,851\n",
            "Trainable params: 50,851\n",
            "Non-trainable params: 0\n",
            "_________________________________________________________________\n"
          ],
          "name": "stdout"
        }
      ]
    },
    {
      "cell_type": "code",
      "metadata": {
        "colab": {
          "base_uri": "https://localhost:8080/"
        },
        "id": "-jGwkepvSp0O",
        "outputId": "069efe3e-e483-497e-d2b1-473e5a391272"
      },
      "source": [
        "model.fit(X_train,y_train,validation_data=(X_test,ytest),epochs=100,batch_size=64,verbose=1)\n"
      ],
      "execution_count": 21,
      "outputs": [
        {
          "output_type": "stream",
          "text": [
            "Epoch 1/100\n",
            "3/3 [==============================] - 6s 796ms/step - loss: 0.0277 - val_loss: 0.1370\n",
            "Epoch 2/100\n",
            "3/3 [==============================] - 1s 190ms/step - loss: 0.0021 - val_loss: 0.0267\n",
            "Epoch 3/100\n",
            "3/3 [==============================] - 1s 169ms/step - loss: 0.0052 - val_loss: 0.0919\n",
            "Epoch 4/100\n",
            "3/3 [==============================] - 1s 174ms/step - loss: 0.0012 - val_loss: 0.1501\n",
            "Epoch 5/100\n",
            "3/3 [==============================] - 1s 176ms/step - loss: 0.0030 - val_loss: 0.1460\n",
            "Epoch 6/100\n",
            "3/3 [==============================] - 1s 190ms/step - loss: 0.0024 - val_loss: 0.1072\n",
            "Epoch 7/100\n",
            "3/3 [==============================] - 1s 171ms/step - loss: 0.0011 - val_loss: 0.0732\n",
            "Epoch 8/100\n",
            "3/3 [==============================] - 1s 177ms/step - loss: 0.0015 - val_loss: 0.0660\n",
            "Epoch 9/100\n",
            "3/3 [==============================] - 1s 170ms/step - loss: 0.0015 - val_loss: 0.0820\n",
            "Epoch 10/100\n",
            "3/3 [==============================] - 1s 180ms/step - loss: 9.9195e-04 - val_loss: 0.0994\n",
            "Epoch 11/100\n",
            "3/3 [==============================] - 1s 176ms/step - loss: 0.0011 - val_loss: 0.1004\n",
            "Epoch 12/100\n",
            "3/3 [==============================] - 1s 176ms/step - loss: 0.0011 - val_loss: 0.0835\n",
            "Epoch 13/100\n",
            "3/3 [==============================] - 1s 172ms/step - loss: 9.3440e-04 - val_loss: 0.0640\n",
            "Epoch 14/100\n",
            "3/3 [==============================] - 1s 173ms/step - loss: 9.9537e-04 - val_loss: 0.0564\n",
            "Epoch 15/100\n",
            "3/3 [==============================] - 1s 176ms/step - loss: 9.6821e-04 - val_loss: 0.0593\n",
            "Epoch 16/100\n",
            "3/3 [==============================] - 1s 169ms/step - loss: 8.4093e-04 - val_loss: 0.0649\n",
            "Epoch 17/100\n",
            "3/3 [==============================] - 1s 175ms/step - loss: 8.5197e-04 - val_loss: 0.0658\n",
            "Epoch 18/100\n",
            "3/3 [==============================] - 1s 181ms/step - loss: 9.0057e-04 - val_loss: 0.0583\n",
            "Epoch 19/100\n",
            "3/3 [==============================] - 1s 183ms/step - loss: 8.2315e-04 - val_loss: 0.0446\n",
            "Epoch 20/100\n",
            "3/3 [==============================] - 1s 172ms/step - loss: 6.7948e-04 - val_loss: 0.0365\n",
            "Epoch 21/100\n",
            "3/3 [==============================] - 1s 177ms/step - loss: 6.8531e-04 - val_loss: 0.0352\n",
            "Epoch 22/100\n",
            "3/3 [==============================] - 1s 170ms/step - loss: 6.7878e-04 - val_loss: 0.0348\n",
            "Epoch 23/100\n",
            "3/3 [==============================] - 1s 181ms/step - loss: 6.3376e-04 - val_loss: 0.0312\n",
            "Epoch 24/100\n",
            "3/3 [==============================] - 1s 236ms/step - loss: 6.3559e-04 - val_loss: 0.0233\n",
            "Epoch 25/100\n",
            "3/3 [==============================] - 1s 177ms/step - loss: 6.2168e-04 - val_loss: 0.0236\n",
            "Epoch 26/100\n",
            "3/3 [==============================] - 1s 174ms/step - loss: 6.1007e-04 - val_loss: 0.0247\n",
            "Epoch 27/100\n",
            "3/3 [==============================] - 1s 173ms/step - loss: 6.3271e-04 - val_loss: 0.0185\n",
            "Epoch 28/100\n",
            "3/3 [==============================] - 1s 176ms/step - loss: 6.2332e-04 - val_loss: 0.0158\n",
            "Epoch 29/100\n",
            "3/3 [==============================] - 1s 178ms/step - loss: 6.2411e-04 - val_loss: 0.0174\n",
            "Epoch 30/100\n",
            "3/3 [==============================] - 1s 176ms/step - loss: 5.7623e-04 - val_loss: 0.0190\n",
            "Epoch 31/100\n",
            "3/3 [==============================] - 1s 171ms/step - loss: 6.4432e-04 - val_loss: 0.0150\n",
            "Epoch 32/100\n",
            "3/3 [==============================] - 1s 177ms/step - loss: 5.9340e-04 - val_loss: 0.0126\n",
            "Epoch 33/100\n",
            "3/3 [==============================] - 1s 181ms/step - loss: 6.1865e-04 - val_loss: 0.0170\n",
            "Epoch 34/100\n",
            "3/3 [==============================] - 1s 188ms/step - loss: 6.1074e-04 - val_loss: 0.0188\n",
            "Epoch 35/100\n",
            "3/3 [==============================] - 1s 169ms/step - loss: 5.6731e-04 - val_loss: 0.0129\n",
            "Epoch 36/100\n",
            "3/3 [==============================] - 1s 180ms/step - loss: 6.2328e-04 - val_loss: 0.0109\n",
            "Epoch 37/100\n",
            "3/3 [==============================] - 1s 182ms/step - loss: 6.7617e-04 - val_loss: 0.0193\n",
            "Epoch 38/100\n",
            "3/3 [==============================] - 1s 174ms/step - loss: 5.9899e-04 - val_loss: 0.0241\n",
            "Epoch 39/100\n",
            "3/3 [==============================] - 1s 182ms/step - loss: 6.1958e-04 - val_loss: 0.0167\n",
            "Epoch 40/100\n",
            "3/3 [==============================] - 1s 176ms/step - loss: 5.7997e-04 - val_loss: 0.0142\n",
            "Epoch 41/100\n",
            "3/3 [==============================] - 1s 170ms/step - loss: 5.8187e-04 - val_loss: 0.0197\n",
            "Epoch 42/100\n",
            "3/3 [==============================] - 1s 170ms/step - loss: 5.6556e-04 - val_loss: 0.0215\n",
            "Epoch 43/100\n",
            "3/3 [==============================] - 1s 175ms/step - loss: 5.5945e-04 - val_loss: 0.0161\n",
            "Epoch 44/100\n",
            "3/3 [==============================] - 1s 174ms/step - loss: 5.1751e-04 - val_loss: 0.0133\n",
            "Epoch 45/100\n",
            "3/3 [==============================] - 1s 175ms/step - loss: 5.6501e-04 - val_loss: 0.0174\n",
            "Epoch 46/100\n",
            "3/3 [==============================] - 1s 171ms/step - loss: 5.1984e-04 - val_loss: 0.0196\n",
            "Epoch 47/100\n",
            "3/3 [==============================] - 1s 182ms/step - loss: 5.0246e-04 - val_loss: 0.0140\n",
            "Epoch 48/100\n",
            "3/3 [==============================] - 1s 178ms/step - loss: 5.7051e-04 - val_loss: 0.0128\n",
            "Epoch 49/100\n",
            "3/3 [==============================] - 1s 181ms/step - loss: 5.6099e-04 - val_loss: 0.0187\n",
            "Epoch 50/100\n",
            "3/3 [==============================] - 1s 171ms/step - loss: 4.9066e-04 - val_loss: 0.0174\n",
            "Epoch 51/100\n",
            "3/3 [==============================] - 1s 178ms/step - loss: 5.1149e-04 - val_loss: 0.0156\n",
            "Epoch 52/100\n",
            "3/3 [==============================] - 1s 178ms/step - loss: 5.1210e-04 - val_loss: 0.0215\n",
            "Epoch 53/100\n",
            "3/3 [==============================] - 1s 173ms/step - loss: 4.9986e-04 - val_loss: 0.0195\n",
            "Epoch 54/100\n",
            "3/3 [==============================] - 1s 175ms/step - loss: 4.9193e-04 - val_loss: 0.0150\n",
            "Epoch 55/100\n",
            "3/3 [==============================] - 1s 189ms/step - loss: 5.1641e-04 - val_loss: 0.0180\n",
            "Epoch 56/100\n",
            "3/3 [==============================] - 1s 187ms/step - loss: 4.8030e-04 - val_loss: 0.0194\n",
            "Epoch 57/100\n",
            "3/3 [==============================] - 1s 170ms/step - loss: 5.2224e-04 - val_loss: 0.0142\n",
            "Epoch 58/100\n",
            "3/3 [==============================] - 1s 177ms/step - loss: 5.1039e-04 - val_loss: 0.0154\n",
            "Epoch 59/100\n",
            "3/3 [==============================] - 1s 172ms/step - loss: 4.6130e-04 - val_loss: 0.0132\n",
            "Epoch 60/100\n",
            "3/3 [==============================] - 1s 176ms/step - loss: 4.8670e-04 - val_loss: 0.0086\n",
            "Epoch 61/100\n",
            "3/3 [==============================] - 1s 175ms/step - loss: 5.0124e-04 - val_loss: 0.0127\n",
            "Epoch 62/100\n",
            "3/3 [==============================] - 1s 176ms/step - loss: 4.7158e-04 - val_loss: 0.0123\n",
            "Epoch 63/100\n",
            "3/3 [==============================] - 1s 173ms/step - loss: 4.3814e-04 - val_loss: 0.0090\n",
            "Epoch 64/100\n",
            "3/3 [==============================] - 1s 178ms/step - loss: 5.0941e-04 - val_loss: 0.0139\n",
            "Epoch 65/100\n",
            "3/3 [==============================] - 1s 176ms/step - loss: 4.9534e-04 - val_loss: 0.0212\n",
            "Epoch 66/100\n",
            "3/3 [==============================] - 1s 197ms/step - loss: 5.7173e-04 - val_loss: 0.0121\n",
            "Epoch 67/100\n",
            "3/3 [==============================] - 1s 181ms/step - loss: 4.8107e-04 - val_loss: 0.0097\n",
            "Epoch 68/100\n",
            "3/3 [==============================] - 1s 177ms/step - loss: 4.4364e-04 - val_loss: 0.0175\n",
            "Epoch 69/100\n",
            "3/3 [==============================] - 1s 184ms/step - loss: 5.2315e-04 - val_loss: 0.0133\n",
            "Epoch 70/100\n",
            "3/3 [==============================] - 1s 174ms/step - loss: 4.5351e-04 - val_loss: 0.0099\n",
            "Epoch 71/100\n",
            "3/3 [==============================] - 1s 192ms/step - loss: 4.9188e-04 - val_loss: 0.0123\n",
            "Epoch 72/100\n",
            "3/3 [==============================] - 1s 174ms/step - loss: 4.5746e-04 - val_loss: 0.0174\n",
            "Epoch 73/100\n",
            "3/3 [==============================] - 1s 177ms/step - loss: 4.7493e-04 - val_loss: 0.0099\n",
            "Epoch 74/100\n",
            "3/3 [==============================] - 1s 178ms/step - loss: 5.0449e-04 - val_loss: 0.0101\n",
            "Epoch 75/100\n",
            "3/3 [==============================] - 1s 180ms/step - loss: 4.4732e-04 - val_loss: 0.0178\n",
            "Epoch 76/100\n",
            "3/3 [==============================] - 1s 176ms/step - loss: 4.8069e-04 - val_loss: 0.0152\n",
            "Epoch 77/100\n",
            "3/3 [==============================] - 1s 241ms/step - loss: 4.5971e-04 - val_loss: 0.0122\n",
            "Epoch 78/100\n",
            "3/3 [==============================] - 1s 180ms/step - loss: 4.1063e-04 - val_loss: 0.0129\n",
            "Epoch 79/100\n",
            "3/3 [==============================] - 1s 174ms/step - loss: 4.0230e-04 - val_loss: 0.0113\n",
            "Epoch 80/100\n",
            "3/3 [==============================] - 1s 187ms/step - loss: 4.6133e-04 - val_loss: 0.0126\n",
            "Epoch 81/100\n",
            "3/3 [==============================] - 1s 176ms/step - loss: 4.3143e-04 - val_loss: 0.0148\n",
            "Epoch 82/100\n",
            "3/3 [==============================] - 1s 179ms/step - loss: 4.0737e-04 - val_loss: 0.0132\n",
            "Epoch 83/100\n",
            "3/3 [==============================] - 1s 170ms/step - loss: 4.3202e-04 - val_loss: 0.0136\n",
            "Epoch 84/100\n",
            "3/3 [==============================] - 1s 178ms/step - loss: 4.3517e-04 - val_loss: 0.0143\n",
            "Epoch 85/100\n",
            "3/3 [==============================] - 1s 171ms/step - loss: 3.8207e-04 - val_loss: 0.0105\n",
            "Epoch 86/100\n",
            "3/3 [==============================] - 1s 175ms/step - loss: 4.0292e-04 - val_loss: 0.0087\n",
            "Epoch 87/100\n",
            "3/3 [==============================] - 1s 175ms/step - loss: 4.2235e-04 - val_loss: 0.0119\n",
            "Epoch 88/100\n",
            "3/3 [==============================] - 1s 181ms/step - loss: 3.8526e-04 - val_loss: 0.0138\n",
            "Epoch 89/100\n",
            "3/3 [==============================] - 1s 176ms/step - loss: 3.9141e-04 - val_loss: 0.0087\n",
            "Epoch 90/100\n",
            "3/3 [==============================] - 1s 184ms/step - loss: 4.5343e-04 - val_loss: 0.0112\n",
            "Epoch 91/100\n",
            "3/3 [==============================] - 1s 182ms/step - loss: 3.7338e-04 - val_loss: 0.0144\n",
            "Epoch 92/100\n",
            "3/3 [==============================] - 1s 173ms/step - loss: 4.4606e-04 - val_loss: 0.0090\n",
            "Epoch 93/100\n",
            "3/3 [==============================] - 1s 177ms/step - loss: 3.8927e-04 - val_loss: 0.0118\n",
            "Epoch 94/100\n",
            "3/3 [==============================] - 1s 178ms/step - loss: 4.0018e-04 - val_loss: 0.0118\n",
            "Epoch 95/100\n",
            "3/3 [==============================] - 1s 176ms/step - loss: 4.2750e-04 - val_loss: 0.0079\n",
            "Epoch 96/100\n",
            "3/3 [==============================] - 1s 171ms/step - loss: 4.4483e-04 - val_loss: 0.0222\n",
            "Epoch 97/100\n",
            "3/3 [==============================] - 1s 176ms/step - loss: 4.9212e-04 - val_loss: 0.0143\n",
            "Epoch 98/100\n",
            "3/3 [==============================] - 1s 175ms/step - loss: 4.4479e-04 - val_loss: 0.0094\n",
            "Epoch 99/100\n",
            "3/3 [==============================] - 1s 186ms/step - loss: 4.3818e-04 - val_loss: 0.0222\n",
            "Epoch 100/100\n",
            "3/3 [==============================] - 1s 176ms/step - loss: 4.7133e-04 - val_loss: 0.0132\n"
          ],
          "name": "stdout"
        },
        {
          "output_type": "execute_result",
          "data": {
            "text/plain": [
              "<tensorflow.python.keras.callbacks.History at 0x7f6f9a91fb00>"
            ]
          },
          "metadata": {
            "tags": []
          },
          "execution_count": 21
        }
      ]
    },
    {
      "cell_type": "code",
      "metadata": {
        "id": "X4GT-5yDTKu6"
      },
      "source": [
        "### Lets Do the prediction and check performance metrics\n",
        "train_predict=model.predict(X_train)\n",
        "test_predict=model.predict(X_test)"
      ],
      "execution_count": 22,
      "outputs": []
    },
    {
      "cell_type": "code",
      "metadata": {
        "id": "rD6E5rZWTSvg"
      },
      "source": [
        "##Transformback to original form\n",
        "train_predict=scaler.inverse_transform(train_predict)\n",
        "test_predict=scaler.inverse_transform(test_predict)"
      ],
      "execution_count": 23,
      "outputs": []
    },
    {
      "cell_type": "code",
      "metadata": {
        "colab": {
          "base_uri": "https://localhost:8080/"
        },
        "id": "7Nv6zL-VTZo0",
        "outputId": "2ff4de49-418d-4473-a886-ab55a457b26f"
      },
      "source": [
        "### Calculate RMSE performance metrics\n",
        "import math\n",
        "from sklearn.metrics import mean_squared_error\n",
        "math.sqrt(mean_squared_error(y_train,train_predict))"
      ],
      "execution_count": 24,
      "outputs": [
        {
          "output_type": "execute_result",
          "data": {
            "text/plain": [
              "9564.552763470383"
            ]
          },
          "metadata": {
            "tags": []
          },
          "execution_count": 24
        }
      ]
    },
    {
      "cell_type": "code",
      "metadata": {
        "colab": {
          "base_uri": "https://localhost:8080/"
        },
        "id": "NzwWznxZTgR2",
        "outputId": "ead97b4d-2926-4caa-8db8-0f4426ce5d9f"
      },
      "source": [
        "### Test Data RMSE\n",
        "math.sqrt(mean_squared_error(ytest,test_predict))"
      ],
      "execution_count": 25,
      "outputs": [
        {
          "output_type": "execute_result",
          "data": {
            "text/plain": [
              "19797.44597724615"
            ]
          },
          "metadata": {
            "tags": []
          },
          "execution_count": 25
        }
      ]
    },
    {
      "cell_type": "code",
      "metadata": {
        "colab": {
          "base_uri": "https://localhost:8080/",
          "height": 269
        },
        "id": "PkZjnC3WTlyb",
        "outputId": "f9d81c80-d972-421d-8978-4437ac8f416e"
      },
      "source": [
        "### Plotting \n",
        "# shift train predictions for plotting\n",
        "look_back=100\n",
        "trainPredictPlot = numpy.empty_like(df1)\n",
        "trainPredictPlot[:, :] = np.nan\n",
        "trainPredictPlot[look_back:len(train_predict)+look_back, :] = train_predict\n",
        "# shift test predictions for plotting\n",
        "testPredictPlot = numpy.empty_like(df1)\n",
        "testPredictPlot[:, :] = numpy.nan\n",
        "testPredictPlot[len(train_predict)+(look_back*2)+1:len(df1)-1, :] = test_predict\n",
        "# plot baseline and predictions\n",
        "plt.plot(scaler.inverse_transform(df1))\n",
        "plt.plot(trainPredictPlot)\n",
        "plt.plot(testPredictPlot)\n",
        "plt.show()"
      ],
      "execution_count": 26,
      "outputs": [
        {
          "output_type": "display_data",
          "data": {
            "image/png": "[encoded data removed]",
            "text/plain": [
              "<Figure size 432x288 with 1 Axes>"
            ]
          },
          "metadata": {
            "tags": [],
            "needs_background": "light"
          }
        }
      ]
    },
    {
      "cell_type": "code",
      "metadata": {
        "id": "xgb1YJd-Tu-L"
      },
      "source": [
        ""
      ],
      "execution_count": 26,
      "outputs": []
    }
  ]
}